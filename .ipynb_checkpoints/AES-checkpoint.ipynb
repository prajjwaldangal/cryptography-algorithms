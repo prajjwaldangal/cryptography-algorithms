{
 "cells": [
  {
   "cell_type": "code",
   "execution_count": 128,
   "metadata": {},
   "outputs": [],
   "source": [
    "key_length = len('0f1571c947d9e8591cb7add6af7f6798') // 2 # 16 bytes"
   ]
  },
  {
   "cell_type": "code",
   "execution_count": 132,
   "metadata": {},
   "outputs": [],
   "source": [
    "# since key length is 16 bytes, number of rounds is 14\n",
    "nor = 10\n",
    "class AES:\n",
    "    \n",
    "    def __init__(self, l, r):\n",
    "        self.key_length = l\n",
    "        self.nor = r\n",
    "        \n",
    "    def sboxSubstitution(self, pltxt):\n",
    "        # Note: in this implementation, Sbox is a flat list (set) instead of a 2d array\n",
    "        Sbox = (\n",
    "            0x63, 0x7C, 0x77, 0x7B, 0xF2, 0x6B, 0x6F, 0xC5, 0x30, 0x01, 0x67, 0x2B, 0xFE, 0xD7, 0xAB, 0x76,\n",
    "            0xCA, 0x82, 0xC9, 0x7D, 0xFA, 0x59, 0x47, 0xF0, 0xAD, 0xD4, 0xA2, 0xAF, 0x9C, 0xA4, 0x72, 0xC0,\n",
    "            0xB7, 0xFD, 0x93, 0x26, 0x36, 0x3F, 0xF7, 0xCC, 0x34, 0xA5, 0xE5, 0xF1, 0x71, 0xD8, 0x31, 0x15,\n",
    "            0x04, 0xC7, 0x23, 0xC3, 0x18, 0x96, 0x05, 0x9A, 0x07, 0x12, 0x80, 0xE2, 0xEB, 0x27, 0xB2, 0x75,\n",
    "            0x09, 0x83, 0x2C, 0x1A, 0x1B, 0x6E, 0x5A, 0xA0, 0x52, 0x3B, 0xD6, 0xB3, 0x29, 0xE3, 0x2F, 0x84,\n",
    "            0x53, 0xD1, 0x00, 0xED, 0x20, 0xFC, 0xB1, 0x5B, 0x6A, 0xCB, 0xBE, 0x39, 0x4A, 0x4C, 0x58, 0xCF,\n",
    "            0xD0, 0xEF, 0xAA, 0xFB, 0x43, 0x4D, 0x33, 0x85, 0x45, 0xF9, 0x02, 0x7F, 0x50, 0x3C, 0x9F, 0xA8,\n",
    "            0x51, 0xA3, 0x40, 0x8F, 0x92, 0x9D, 0x38, 0xF5, 0xBC, 0xB6, 0xDA, 0x21, 0x10, 0xFF, 0xF3, 0xD2,\n",
    "            0xCD, 0x0C, 0x13, 0xEC, 0x5F, 0x97, 0x44, 0x17, 0xC4, 0xA7, 0x7E, 0x3D, 0x64, 0x5D, 0x19, 0x73,\n",
    "            0x60, 0x81, 0x4F, 0xDC, 0x22, 0x2A, 0x90, 0x88, 0x46, 0xEE, 0xB8, 0x14, 0xDE, 0x5E, 0x0B, 0xDB,\n",
    "            0xE0, 0x32, 0x3A, 0x0A, 0x49, 0x06, 0x24, 0x5C, 0xC2, 0xD3, 0xAC, 0x62, 0x91, 0x95, 0xE4, 0x79,\n",
    "            0xE7, 0xC8, 0x37, 0x6D, 0x8D, 0xD5, 0x4E, 0xA9, 0x6C, 0x56, 0xF4, 0xEA, 0x65, 0x7A, 0xAE, 0x08,\n",
    "            0xBA, 0x78, 0x25, 0x2E, 0x1C, 0xA6, 0xB4, 0xC6, 0xE8, 0xDD, 0x74, 0x1F, 0x4B, 0xBD, 0x8B, 0x8A,\n",
    "            0x70, 0x3E, 0xB5, 0x66, 0x48, 0x03, 0xF6, 0x0E, 0x61, 0x35, 0x57, 0xB9, 0x86, 0xC1, 0x1D, 0x9E,\n",
    "            0xE1, 0xF8, 0x98, 0x11, 0x69, 0xD9, 0x8E, 0x94, 0x9B, 0x1E, 0x87, 0xE9, 0xCE, 0x55, 0x28, 0xDF,\n",
    "            0x8C, 0xA1, 0x89, 0x0D, 0xBF, 0xE6, 0x42, 0x68, 0x41, 0x99, 0x2D, 0x0F, 0xB0, 0x54, 0xBB, 0x16\n",
    "            )\n",
    "        pltxt_indices = [[pltxt[i], pltxt[i+1]] for i in range(0,32,2)]\n",
    "        l = len(pltxt_indices)\n",
    "        opt = []\n",
    "        for i in range(l):\n",
    "            # since Sbox is a flat list, we will index it using just one index\n",
    "            # which is row * 16 + column\n",
    "            sbox_ind = int(pltxt_indices[i][0], 16) * 16 + int(pltxt_indices[i][1], 16)\n",
    "            opt.append(hex(Sbox[sbox_ind]))\n",
    "        mat = []\n",
    "        tmp = []\n",
    "        for i in range(1, 17):\n",
    "            tmp.append(opt[i-1])\n",
    "            if i % 4 == 0:\n",
    "                mat.append(tmp)\n",
    "                tmp = []\n",
    "        return mat\n",
    "    \n",
    "    def shiftRows(self, mat):\n",
    "        tmp = [mat[1][1], mat[1][2], mat[1][3], mat[1][0]]\n",
    "        mat[1] = tmp\n",
    "        tmp = [mat[2][2], mat[2][3], mat[2][0], mat[2][1]]\n",
    "        mat[2] = tmp\n",
    "        tmp = [mat[3][3], mat[3][0], mat[3][1], mat[3][2]]\n",
    "        mat[3] = tmp\n",
    "        return mat\n",
    "    \n",
    "    def _readAsHex(self, n):\n",
    "        return int(n, base=16)\n",
    "    \n",
    "    def _multiplyAndXor(self, multiplier, inp_mat):\n",
    "        return multiplier[0] * self._readAsHex(inp_mat[0]) ^ \\\n",
    "                multiplier[1] * self._readAsHex(inp_mat[1]) ^ \\\n",
    "                multiplier[2] * self._readAsHex(inp_mat[2]) ^ \\\n",
    "                multiplier[3] * self._readAsHex(inp_mat[3])\n",
    "\n",
    "    \n",
    "    def mixColumns(self, inp):\n",
    "        comb_mat = [\n",
    "            [2, 3, 1, 1],\n",
    "            [1, 2, 3, 1],\n",
    "            [1, 1, 2, 3],\n",
    "            [3, 1, 1, 2]\n",
    "        ]\n",
    "        out = []\n",
    "        i = 0\n",
    "        j = 0\n",
    "        while i < 4:\n",
    "            multiplier = comb_mat[i]\n",
    "            while j < 4:\n",
    "                inp_mat = [inp[0][j], inp[1][j], inp[2][j], inp[3][j]]\n",
    "                out.append(self._multiplyAndXor(multiplier, inp_mat))\n",
    "                j+=1\n",
    "            i+= 1\n",
    "        return out\n",
    "    \n",
    "    def addRoundKeys(self):\n",
    "        pass\n",
    "        \n",
    "cipher = AES(key_length, nor)"
   ]
  },
  {
   "cell_type": "code",
   "execution_count": 123,
   "metadata": {},
   "outputs": [
    {
     "name": "stdout",
     "output_type": "stream",
     "text": [
      "\u001b[1;30;0m Plaintext: \n",
      "\t\u001b[1;30;47m0123456789abcdeffedcba9876543210\n",
      "\u001b[1;30;0m Applying sbox operation on plaintext and returning amatrix for row shifting ...\n",
      "\t\u001b[1;30;47m\n",
      "\u001b[1;30;0m After sbox operation: \n",
      "\t\u001b[1;30;47m[['0x7c', '0x26', '0x6e', '0x85'], ['0xa7', '0x62', '0xbd', '0xdf'], ['0xbb', '0x86', '0xf4', '0x46'], ['0x38', '0x20', '0x23', '0xca']]\n",
      "\u001b[1;30;0m Next shifting rows ...\n",
      "\t\u001b[1;30;47m\n",
      "\u001b[1;30;0m After row shifts: \n",
      "\t\u001b[1;30;47m[['0x7c', '0x26', '0x6e', '0x85'], ['0x62', '0xbd', '0xdf', '0xa7'], ['0xf4', '0x46', '0xbb', '0x86'], ['0xca', '0x38', '0x20', '0x23']]\n",
      "\u001b[1;30;0m Next mixing columns ...\n",
      "\t\u001b[1;30;47m\n"
     ]
    },
    {
     "ename": "TypeError",
     "evalue": "int() can't convert non-string with explicit base",
     "output_type": "error",
     "traceback": [
      "\u001b[0;31m---------------------------------------------------------------------------\u001b[0m",
      "\u001b[0;31mTypeError\u001b[0m                                 Traceback (most recent call last)",
      "\u001b[0;32m<ipython-input-123-ce8e74dd29c5>\u001b[0m in \u001b[0;36m<module>\u001b[0;34m\u001b[0m\n\u001b[1;32m     17\u001b[0m           \u001b[0;34m[\u001b[0m\u001b[0;36m0xA6\u001b[0m\u001b[0;34m,\u001b[0m \u001b[0;36m0x8C\u001b[0m\u001b[0;34m,\u001b[0m \u001b[0;36m0xD8\u001b[0m\u001b[0;34m,\u001b[0m \u001b[0;36m0x95\u001b[0m\u001b[0;34m]\u001b[0m\u001b[0;34m\u001b[0m\u001b[0;34m\u001b[0m\u001b[0m\n\u001b[1;32m     18\u001b[0m          ]\n\u001b[0;32m---> 19\u001b[0;31m     \u001b[0mmixedColumns\u001b[0m \u001b[0;34m=\u001b[0m \u001b[0mcipher\u001b[0m\u001b[0;34m.\u001b[0m\u001b[0mmixColumns\u001b[0m\u001b[0;34m(\u001b[0m\u001b[0meg\u001b[0m\u001b[0;34m)\u001b[0m\u001b[0;34m\u001b[0m\u001b[0;34m\u001b[0m\u001b[0m\n\u001b[0m\u001b[1;32m     20\u001b[0m     \u001b[0mprint\u001b[0m\u001b[0;34m(\u001b[0m\u001b[0mmixedColumns\u001b[0m\u001b[0;34m)\u001b[0m\u001b[0;34m\u001b[0m\u001b[0;34m\u001b[0m\u001b[0m\n",
      "\u001b[0;32m<ipython-input-122-9ea464892e3b>\u001b[0m in \u001b[0;36mmixColumns\u001b[0;34m(self, inp)\u001b[0m\n\u001b[1;32m     77\u001b[0m             \u001b[0;32mwhile\u001b[0m \u001b[0mj\u001b[0m \u001b[0;34m<\u001b[0m \u001b[0;36m4\u001b[0m\u001b[0;34m:\u001b[0m\u001b[0;34m\u001b[0m\u001b[0;34m\u001b[0m\u001b[0m\n\u001b[1;32m     78\u001b[0m                 \u001b[0minp_mat\u001b[0m \u001b[0;34m=\u001b[0m \u001b[0;34m[\u001b[0m\u001b[0minp\u001b[0m\u001b[0;34m[\u001b[0m\u001b[0;36m0\u001b[0m\u001b[0;34m]\u001b[0m\u001b[0;34m[\u001b[0m\u001b[0mj\u001b[0m\u001b[0;34m]\u001b[0m\u001b[0;34m,\u001b[0m \u001b[0minp\u001b[0m\u001b[0;34m[\u001b[0m\u001b[0;36m1\u001b[0m\u001b[0;34m]\u001b[0m\u001b[0;34m[\u001b[0m\u001b[0mj\u001b[0m\u001b[0;34m]\u001b[0m\u001b[0;34m,\u001b[0m \u001b[0minp\u001b[0m\u001b[0;34m[\u001b[0m\u001b[0;36m2\u001b[0m\u001b[0;34m]\u001b[0m\u001b[0;34m[\u001b[0m\u001b[0mj\u001b[0m\u001b[0;34m]\u001b[0m\u001b[0;34m,\u001b[0m \u001b[0minp\u001b[0m\u001b[0;34m[\u001b[0m\u001b[0;36m3\u001b[0m\u001b[0;34m]\u001b[0m\u001b[0;34m[\u001b[0m\u001b[0mj\u001b[0m\u001b[0;34m]\u001b[0m\u001b[0;34m]\u001b[0m\u001b[0;34m\u001b[0m\u001b[0;34m\u001b[0m\u001b[0m\n\u001b[0;32m---> 79\u001b[0;31m                 \u001b[0mout\u001b[0m\u001b[0;34m.\u001b[0m\u001b[0mappend\u001b[0m\u001b[0;34m(\u001b[0m\u001b[0mself\u001b[0m\u001b[0;34m.\u001b[0m\u001b[0m_multiplyAndXor\u001b[0m\u001b[0;34m(\u001b[0m\u001b[0mmultiplier\u001b[0m\u001b[0;34m,\u001b[0m \u001b[0minp_mat\u001b[0m\u001b[0;34m)\u001b[0m\u001b[0;34m)\u001b[0m\u001b[0;34m\u001b[0m\u001b[0;34m\u001b[0m\u001b[0m\n\u001b[0m\u001b[1;32m     80\u001b[0m                 \u001b[0mj\u001b[0m\u001b[0;34m+=\u001b[0m\u001b[0;36m1\u001b[0m\u001b[0;34m\u001b[0m\u001b[0;34m\u001b[0m\u001b[0m\n\u001b[1;32m     81\u001b[0m             \u001b[0mi\u001b[0m\u001b[0;34m+=\u001b[0m \u001b[0;36m1\u001b[0m\u001b[0;34m\u001b[0m\u001b[0;34m\u001b[0m\u001b[0m\n",
      "\u001b[0;32m<ipython-input-122-9ea464892e3b>\u001b[0m in \u001b[0;36m_multiplyAndXor\u001b[0;34m(self, multiplier, inp_mat)\u001b[0m\n\u001b[1;32m     59\u001b[0m         \u001b[0;32mreturn\u001b[0m \u001b[0mself\u001b[0m\u001b[0;34m.\u001b[0m\u001b[0m_readAsHex\u001b[0m\u001b[0;34m(\u001b[0m\u001b[0mmultiplier\u001b[0m\u001b[0;34m[\u001b[0m\u001b[0;36m0\u001b[0m\u001b[0;34m]\u001b[0m\u001b[0;34m)\u001b[0m \u001b[0;34m*\u001b[0m \u001b[0mself\u001b[0m\u001b[0;34m.\u001b[0m\u001b[0m_readAsHex\u001b[0m\u001b[0;34m(\u001b[0m\u001b[0minp_mat\u001b[0m\u001b[0;34m[\u001b[0m\u001b[0;36m0\u001b[0m\u001b[0;34m]\u001b[0m\u001b[0;34m)\u001b[0m \u001b[0;34m^\u001b[0m\u001b[0;31m \u001b[0m\u001b[0;31m\\\u001b[0m\u001b[0;34m\u001b[0m\u001b[0;34m\u001b[0m\u001b[0m\n\u001b[1;32m     60\u001b[0m                 \u001b[0mself\u001b[0m\u001b[0;34m.\u001b[0m\u001b[0m_readAsHex\u001b[0m\u001b[0;34m(\u001b[0m\u001b[0mmultiplier\u001b[0m\u001b[0;34m[\u001b[0m\u001b[0;36m1\u001b[0m\u001b[0;34m]\u001b[0m\u001b[0;34m)\u001b[0m \u001b[0;34m*\u001b[0m \u001b[0mself\u001b[0m\u001b[0;34m.\u001b[0m\u001b[0m_readAsHex\u001b[0m\u001b[0;34m(\u001b[0m\u001b[0minp_mat\u001b[0m\u001b[0;34m[\u001b[0m\u001b[0;36m1\u001b[0m\u001b[0;34m]\u001b[0m\u001b[0;34m)\u001b[0m \u001b[0;34m^\u001b[0m\u001b[0;31m \u001b[0m\u001b[0;31m\\\u001b[0m\u001b[0;34m\u001b[0m\u001b[0;34m\u001b[0m\u001b[0m\n\u001b[0;32m---> 61\u001b[0;31m                 \u001b[0mself\u001b[0m\u001b[0;34m.\u001b[0m\u001b[0m_readAsHex\u001b[0m\u001b[0;34m(\u001b[0m\u001b[0mmultiplier\u001b[0m\u001b[0;34m[\u001b[0m\u001b[0;36m2\u001b[0m\u001b[0;34m]\u001b[0m\u001b[0;34m)\u001b[0m \u001b[0;34m*\u001b[0m \u001b[0mself\u001b[0m\u001b[0;34m.\u001b[0m\u001b[0m_readAsHex\u001b[0m\u001b[0;34m(\u001b[0m\u001b[0minp_mat\u001b[0m\u001b[0;34m[\u001b[0m\u001b[0;36m2\u001b[0m\u001b[0;34m]\u001b[0m\u001b[0;34m)\u001b[0m \u001b[0;34m^\u001b[0m\u001b[0;31m \u001b[0m\u001b[0;31m\\\u001b[0m\u001b[0;34m\u001b[0m\u001b[0;34m\u001b[0m\u001b[0m\n\u001b[0m\u001b[1;32m     62\u001b[0m                 \u001b[0mself\u001b[0m\u001b[0;34m.\u001b[0m\u001b[0m_readAsHex\u001b[0m\u001b[0;34m(\u001b[0m\u001b[0mmultiplier\u001b[0m\u001b[0;34m[\u001b[0m\u001b[0;36m3\u001b[0m\u001b[0;34m]\u001b[0m\u001b[0;34m)\u001b[0m \u001b[0;34m*\u001b[0m \u001b[0mself\u001b[0m\u001b[0;34m.\u001b[0m\u001b[0m_readAsHex\u001b[0m\u001b[0;34m(\u001b[0m\u001b[0minp_mat\u001b[0m\u001b[0;34m[\u001b[0m\u001b[0;36m3\u001b[0m\u001b[0;34m]\u001b[0m\u001b[0;34m)\u001b[0m\u001b[0;34m\u001b[0m\u001b[0;34m\u001b[0m\u001b[0m\n\u001b[1;32m     63\u001b[0m \u001b[0;34m\u001b[0m\u001b[0m\n",
      "\u001b[0;32m<ipython-input-122-9ea464892e3b>\u001b[0m in \u001b[0;36m_readAsHex\u001b[0;34m(self, n)\u001b[0m\n\u001b[1;32m     54\u001b[0m \u001b[0;34m\u001b[0m\u001b[0m\n\u001b[1;32m     55\u001b[0m     \u001b[0;32mdef\u001b[0m \u001b[0m_readAsHex\u001b[0m\u001b[0;34m(\u001b[0m\u001b[0mself\u001b[0m\u001b[0;34m,\u001b[0m \u001b[0mn\u001b[0m\u001b[0;34m)\u001b[0m\u001b[0;34m:\u001b[0m\u001b[0;34m\u001b[0m\u001b[0;34m\u001b[0m\u001b[0m\n\u001b[0;32m---> 56\u001b[0;31m         \u001b[0;32mreturn\u001b[0m \u001b[0mint\u001b[0m\u001b[0;34m(\u001b[0m\u001b[0mn\u001b[0m\u001b[0;34m,\u001b[0m \u001b[0mbase\u001b[0m\u001b[0;34m=\u001b[0m\u001b[0;36m16\u001b[0m\u001b[0;34m)\u001b[0m\u001b[0;34m\u001b[0m\u001b[0;34m\u001b[0m\u001b[0m\n\u001b[0m\u001b[1;32m     57\u001b[0m \u001b[0;34m\u001b[0m\u001b[0m\n\u001b[1;32m     58\u001b[0m     \u001b[0;32mdef\u001b[0m \u001b[0m_multiplyAndXor\u001b[0m\u001b[0;34m(\u001b[0m\u001b[0mself\u001b[0m\u001b[0;34m,\u001b[0m \u001b[0mmultiplier\u001b[0m\u001b[0;34m,\u001b[0m \u001b[0minp_mat\u001b[0m\u001b[0;34m)\u001b[0m\u001b[0;34m:\u001b[0m\u001b[0;34m\u001b[0m\u001b[0;34m\u001b[0m\u001b[0m\n",
      "\u001b[0;31mTypeError\u001b[0m: int() can't convert non-string with explicit base"
     ]
    }
   ],
   "source": [
    "def format_output(msg, data):\n",
    "    print(\"\\033[1;30;0m {}\\n\\t\\033[1;30;47m{}\".format(msg, data))\n",
    "if __name__ == '__main__':\n",
    "    pltxt = '0123456789abcdeffedcba9876543210'\n",
    "    format_output(\"Plaintext: \", pltxt)\n",
    "    opt_sbox = cipher.sboxSubstitution(pltxt)\n",
    "    format_output(\"Applying sbox operation on plaintext and returning a\" +\n",
    "        \"matrix for row shifting ...\", \"\")\n",
    "    format_output(\"After sbox operation: \", opt_sbox)\n",
    "    format_output(\"Next shifting rows ...\", \"\")\n",
    "    shifted = cipher.shiftRows(opt_sbox)\n",
    "    format_output(\"After row shifts: \", shifted)\n",
    "    format_output(\"Next mixing columns ...\", \"\")\n",
    "    eg = [[0x87, 0xF2, 0x4D, 0x97], \n",
    "          [0x6E, 0x4C, 0x90, 0xEC],\n",
    "          [0x46, 0xE7, 0x4A, 0xC3],\n",
    "          [0xA6, 0x8C, 0xD8, 0x95]\n",
    "         ]\n",
    "    mixedColumns = cipher.mixColumns(eg)\n",
    "    print(mixedColumns)"
   ]
  },
  {
   "cell_type": "code",
   "execution_count": 134,
   "metadata": {},
   "outputs": [
    {
     "data": {
      "text/plain": [
       "164"
      ]
     },
     "execution_count": 134,
     "metadata": {},
     "output_type": "execute_result"
    }
   ],
   "source": [
    "2*(16*8+7) ^ 3*(16*6+14) ^ (16*4+6) ^ (16*10+6)"
   ]
  },
  {
   "cell_type": "code",
   "execution_count": 135,
   "metadata": {
    "scrolled": true
   },
   "outputs": [
    {
     "data": {
      "text/plain": [
       "True"
      ]
     },
     "execution_count": 135,
     "metadata": {},
     "output_type": "execute_result"
    }
   ],
   "source": [
    "(2 ^ 1)^4 == 2 ^ 1 ^ 4 == 0x2 ^ 0x1 ^ 0x4"
   ]
  },
  {
   "cell_type": "code",
   "execution_count": null,
   "metadata": {},
   "outputs": [],
   "source": []
  }
 ],
 "metadata": {
  "kernelspec": {
   "display_name": "Python 3",
   "language": "python",
   "name": "python3"
  },
  "language_info": {
   "codemirror_mode": {
    "name": "ipython",
    "version": 3
   },
   "file_extension": ".py",
   "mimetype": "text/x-python",
   "name": "python",
   "nbconvert_exporter": "python",
   "pygments_lexer": "ipython3",
   "version": "3.7.5"
  }
 },
 "nbformat": 4,
 "nbformat_minor": 2
}
